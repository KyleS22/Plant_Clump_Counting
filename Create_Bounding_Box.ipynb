{
 "cells": [
  {
   "cell_type": "code",
   "execution_count": 30,
   "metadata": {},
   "outputs": [],
   "source": [
    "import numpy as np\n",
    "import matplotlib.pyplot as plt \n",
    "import skimage.io as io\n",
    "import matplotlib.patches as pt\n",
    "import os as os\n",
    "import sys\n",
    "from math import ceil"
   ]
  },
  {
   "cell_type": "code",
   "execution_count": 2,
   "metadata": {},
   "outputs": [],
   "source": [
    "def show_bounding_boxes(dir_name=\"Umair\"):\n",
    "    \n",
    "    #Parameter:dir_name assumes that both image and annotation directories are in your pwd\n",
    "    #The function takes the direcotry name and creates bounding boxes around the annoted \n",
    "    #clumped plants.\n",
    "    \n",
    "    \n",
    "    images_path = os.path.join('.', dir_name)\n",
    "    \n",
    "    if not os.path.exists(images_path):\n",
    "        print(\"Directory Doesn't Exist\\nExiting the Program\")\n",
    "\n",
    "    for root, dirs, files in os.walk(images_path):\n",
    "        for filename in files:\n",
    "            image = io.imread(root+'//'+filename)\n",
    "            annotations_file = open(dir_name+'_annotations'+'/'+filename.replace(\".JPG\",\".txt\"),\"r\")\n",
    "            fig = plt.figure(figsize=(10,10))\n",
    "            boxes = annotations_file.readlines()\n",
    "            for box in boxes:\n",
    "                coordinates = np.array(box.split())\n",
    "                coordinates = coordinates.astype(np.float)\n",
    "                x = (coordinates[1] - coordinates[3]/2)*image.shape[1]\n",
    "                y = (coordinates[2] - coordinates[4]/2)*image.shape[0]\n",
    "                rect = pt.Rectangle((x,y),coordinates[3]*image.shape[1],coordinates[4]*image.shape[0],linewidth=2,edgecolor='y',facecolor='none')\n",
    "                ax2 = fig.add_subplot(111, aspect='equal')\n",
    "                ax2.add_patch(rect)\n",
    "            plt.imshow(image)"
   ]
  },
  {
   "cell_type": "code",
   "execution_count": 68,
   "metadata": {},
   "outputs": [],
   "source": [
    "def cropped_bounding_boxes(dir_name='Umair',filename='IMG_4426.JPG'):\n",
    "    \n",
    "    #Parameter:dir_name is the name of the directory\n",
    "    #Parameter:filename is the name of the image file\n",
    "    #returns: cropped images array and the class_label array\n",
    "    #The class_label_array will represent the TRUE class of same image on corresponding cropped_image array\n",
    "    \n",
    "    try:\n",
    "        image = io.imread(dir_name+'//'+filename)\n",
    "        annotations_file = open(dir_name+'_annotations'+'/'+filename.replace(\".JPG\",\".txt\"),\"r\")\n",
    "    except:\n",
    "        sys.exit(\"Cannot Find the specified direcotry/Image\")\n",
    "    \n",
    "    boxes = annotations_file.readlines()\n",
    "    cropped_images=[]\n",
    "    image_labels = []\n",
    "    fig = plt.figure(figsize=(10,10))\n",
    "    for box in boxes:\n",
    "        coordinates = np.array(box.split())\n",
    "        coordinates = coordinates.astype(np.float)\n",
    "        x = (coordinates[1] - coordinates[3]/2)*image.shape[1]\n",
    "        y = (coordinates[2] - coordinates[4]/2)*image.shape[0]\n",
    "        rect = pt.Rectangle((x,y),coordinates[3]*image.shape[1],coordinates[4]*image.shape[0],linewidth=2,edgecolor='y',facecolor='none')\n",
    "        cropped_images.append(image[ceil(y):ceil(y+coordinates[4]*image.shape[0]),ceil(x):ceil(x+coordinates[3]*image.shape[1]),])\n",
    "        image_labels.append(int(coordinates[0]+1))\n",
    "        ax2 = fig.add_subplot(111, aspect='equal')\n",
    "        ax2.add_patch(rect)\n",
    "    plt.title(\"Orignial Image with Bounding Boxes\")\n",
    "    plt.imshow(image)\n",
    "    return cropped_images,image_labels"
   ]
  },
  {
   "cell_type": "code",
   "execution_count": 69,
   "metadata": {},
   "outputs": [
    {
     "ename": "NameError",
     "evalue": "name 'figsize' is not defined",
     "output_type": "error",
     "traceback": [
      "\u001b[1;31m---------------------------------------------------------------------------\u001b[0m",
      "\u001b[1;31mNameError\u001b[0m                                 Traceback (most recent call last)",
      "\u001b[1;32m<ipython-input-69-bf7f19630f84>\u001b[0m in \u001b[0;36m<module>\u001b[1;34m()\u001b[0m\n\u001b[0;32m      1\u001b[0m \u001b[1;31m# Function Call Test\u001b[0m\u001b[1;33m\u001b[0m\u001b[1;33m\u001b[0m\u001b[0m\n\u001b[1;32m----> 2\u001b[1;33m \u001b[0mcropped_images\u001b[0m\u001b[1;33m,\u001b[0m\u001b[0mimage_labels\u001b[0m \u001b[1;33m=\u001b[0m \u001b[0mcropped_bounding_boxes\u001b[0m\u001b[1;33m(\u001b[0m\u001b[1;34m'Umair'\u001b[0m\u001b[1;33m,\u001b[0m\u001b[1;34m'IMG_4456.JPG'\u001b[0m\u001b[1;33m)\u001b[0m\u001b[1;33m\u001b[0m\u001b[0m\n\u001b[0m\u001b[0;32m      3\u001b[0m \u001b[1;32mfor\u001b[0m \u001b[0mi\u001b[0m \u001b[1;32min\u001b[0m \u001b[0mrange\u001b[0m\u001b[1;33m(\u001b[0m\u001b[1;36m0\u001b[0m\u001b[1;33m,\u001b[0m\u001b[0mlen\u001b[0m\u001b[1;33m(\u001b[0m\u001b[0mcropped_images\u001b[0m\u001b[1;33m)\u001b[0m\u001b[1;33m)\u001b[0m\u001b[1;33m:\u001b[0m\u001b[1;33m\u001b[0m\u001b[0m\n\u001b[0;32m      4\u001b[0m     \u001b[0mfig\u001b[0m \u001b[1;33m=\u001b[0m \u001b[0mplt\u001b[0m\u001b[1;33m.\u001b[0m\u001b[0mfigure\u001b[0m\u001b[1;33m(\u001b[0m\u001b[1;33m)\u001b[0m\u001b[1;33m\u001b[0m\u001b[0m\n\u001b[0;32m      5\u001b[0m     \u001b[0mplt\u001b[0m\u001b[1;33m.\u001b[0m\u001b[0mtitle\u001b[0m\u001b[1;33m(\u001b[0m\u001b[1;34m\"Clump Image: \"\u001b[0m\u001b[1;33m+\u001b[0m\u001b[0mstr\u001b[0m\u001b[1;33m(\u001b[0m\u001b[0mi\u001b[0m\u001b[1;33m+\u001b[0m\u001b[1;36m1\u001b[0m\u001b[1;33m)\u001b[0m\u001b[1;33m+\u001b[0m\u001b[1;34m\" with: \"\u001b[0m\u001b[1;33m+\u001b[0m\u001b[0mstr\u001b[0m\u001b[1;33m(\u001b[0m\u001b[0mimage_labels\u001b[0m\u001b[1;33m[\u001b[0m\u001b[0mi\u001b[0m\u001b[1;33m]\u001b[0m\u001b[1;33m)\u001b[0m\u001b[1;33m+\u001b[0m\u001b[1;34m\" Plants\"\u001b[0m\u001b[1;33m)\u001b[0m\u001b[1;33m\u001b[0m\u001b[0m\n",
      "\u001b[1;32m<ipython-input-68-be4f701f619d>\u001b[0m in \u001b[0;36mcropped_bounding_boxes\u001b[1;34m(dir_name, filename)\u001b[0m\n\u001b[0;32m     15\u001b[0m     \u001b[0mcropped_images\u001b[0m\u001b[1;33m=\u001b[0m\u001b[1;33m[\u001b[0m\u001b[1;33m]\u001b[0m\u001b[1;33m\u001b[0m\u001b[0m\n\u001b[0;32m     16\u001b[0m     \u001b[0mimage_labels\u001b[0m \u001b[1;33m=\u001b[0m \u001b[1;33m[\u001b[0m\u001b[1;33m]\u001b[0m\u001b[1;33m\u001b[0m\u001b[0m\n\u001b[1;32m---> 17\u001b[1;33m     \u001b[0mplt\u001b[0m\u001b[1;33m.\u001b[0m\u001b[0mfigure\u001b[0m\u001b[1;33m(\u001b[0m\u001b[0mfigsize\u001b[0m\u001b[1;33m(\u001b[0m\u001b[1;36m10\u001b[0m\u001b[1;33m,\u001b[0m\u001b[1;36m10\u001b[0m\u001b[1;33m)\u001b[0m\u001b[1;33m)\u001b[0m\u001b[1;33m\u001b[0m\u001b[0m\n\u001b[0m\u001b[0;32m     18\u001b[0m     \u001b[1;32mfor\u001b[0m \u001b[0mbox\u001b[0m \u001b[1;32min\u001b[0m \u001b[0mboxes\u001b[0m\u001b[1;33m:\u001b[0m\u001b[1;33m\u001b[0m\u001b[0m\n\u001b[0;32m     19\u001b[0m         \u001b[0mcoordinates\u001b[0m \u001b[1;33m=\u001b[0m \u001b[0mnp\u001b[0m\u001b[1;33m.\u001b[0m\u001b[0marray\u001b[0m\u001b[1;33m(\u001b[0m\u001b[0mbox\u001b[0m\u001b[1;33m.\u001b[0m\u001b[0msplit\u001b[0m\u001b[1;33m(\u001b[0m\u001b[1;33m)\u001b[0m\u001b[1;33m)\u001b[0m\u001b[1;33m\u001b[0m\u001b[0m\n",
      "\u001b[1;31mNameError\u001b[0m: name 'figsize' is not defined"
     ]
    }
   ],
   "source": [
    "# Function Call Test\n",
    "cropped_images,image_labels = cropped_bounding_boxes('Umair','IMG_4456.JPG')\n",
    "for i in range(0,len(cropped_images)):\n",
    "    fig = plt.figure()\n",
    "    plt.title(\"Clump Image: \"+str(i+1)+\" with: \"+str(image_labels[i])+\" Plants\")\n",
    "    plt.imshow(cropped_images[i])\n"
   ]
  },
  {
   "cell_type": "code",
   "execution_count": null,
   "metadata": {},
   "outputs": [],
   "source": []
  }
 ],
 "metadata": {
  "kernelspec": {
   "display_name": "Python 3",
   "language": "python",
   "name": "python3"
  },
  "language_info": {
   "codemirror_mode": {
    "name": "ipython",
    "version": 3
   },
   "file_extension": ".py",
   "mimetype": "text/x-python",
   "name": "python",
   "nbconvert_exporter": "python",
   "pygments_lexer": "ipython3",
   "version": "3.6.5"
  }
 },
 "nbformat": 4,
 "nbformat_minor": 2
}
