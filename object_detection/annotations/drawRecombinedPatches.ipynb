{
 "cells": [
  {
   "cell_type": "code",
   "execution_count": 1,
   "metadata": {},
   "outputs": [],
   "source": [
    "import os\n",
    "import cv2\n",
    "import glob\n",
    "import csv\n",
    "\n",
    "import numpy as np\n",
    "\n",
    "from math import ceil"
   ]
  },
  {
   "cell_type": "code",
   "execution_count": 2,
   "metadata": {},
   "outputs": [],
   "source": [
    "IMGNAME     = \"05_376793475\"\n",
    "IMGFOLDER   = \"D:\\\\tensorflow\\\\projects\\\\PlantClumpDetection\\\\annotations\\\\output_stitch\\\\\"\n",
    "PREDFOLDERS = [\"D:\\\\tensorflow\\\\projects\\\\PlantClumpDetection\\\\annotations\\\\output_stitch_outputs\\\\SSDliteMobilenetV2\\\\\",\n",
    "               \"D:\\\\tensorflow\\\\projects\\\\PlantClumpDetection\\\\annotations\\\\output_stitch_outputs\\\\SSDliteResnet\\\\\",\n",
    "               \"D:\\\\tensorflow\\\\projects\\\\PlantClumpDetection\\\\annotations\\\\output_stitch_outputs\\\\YOLOv3\\\\\",\n",
    "               \"D:\\\\tensorflow\\\\projects\\\\PlantClumpDetection\\\\annotations\\\\output_stitch_outputs\\\\UNet\\\\\"]\n",
    "OUTPUTFOLDER = \"D:\\\\tensorflow\\\\projects\\\\PlantClumpDetection\\\\annotations\\\\output_stitch_outputs\\\\\"\n",
    "\n",
    "XMINROWIDX = 1\n",
    "YMINROWIDX = XMINROWIDX+1\n",
    "XMAXROWIDX = YMINROWIDX+1\n",
    "YMAXROWIDX = XMAXROWIDX+1\n",
    "\n",
    "IMAGEEXT = \".png\" # include the '.'\n",
    "PREDEXT  = \".csv\" # include the '.' # I don't think this can be anything other than .csv really...\n",
    "PREDFNAMESUFFIX = \"_crops\" # Between the image name and the extension\n",
    "\n",
    "COLOURS = [ # Associated 1:1 with the order of PREDFOLDERS\n",
    "    (255, 0, 0),\n",
    "    (255, 0, 255),\n",
    "    (0, 255, 255),\n",
    "    (255, 255, 0)\n",
    "]\n",
    "THICKNESS = 1\n",
    "\n",
    "MARKEDFNAMESUFFIX = \"_detections\" # Between the image name and the extension of the output file"
   ]
  },
  {
   "cell_type": "code",
   "execution_count": 3,
   "metadata": {},
   "outputs": [],
   "source": [
    "frame = cv2.imread(os.path.join(IMGFOLDER, IMGNAME+IMAGEEXT))\n",
    "if frame is None:\n",
    "    print(\"WARNING: {} cannot be read. Skipping...\".format(pathimagename))\n",
    "new = frame.copy()"
   ]
  },
  {
   "cell_type": "code",
   "execution_count": 4,
   "metadata": {},
   "outputs": [],
   "source": [
    "for predfolder, colour in zip(PREDFOLDERS, COLOURS):\n",
    "    \n",
    "    boxesCSVfilename = IMGNAME + PREDFNAMESUFFIX + PREDEXT\n",
    "    \n",
    "    with open(os.path.join(predfolder, IMGNAME, boxesCSVfilename), newline='') as csvfile:\n",
    "        reader = csv.reader(csvfile, delimiter=',', quotechar='|')\n",
    "        skipFirst = False\n",
    "        for row in reader:\n",
    "            if not skipFirst: # To remove the first line contianing only the headers \n",
    "                skipFirst = True\n",
    "                continue\n",
    "            cv2.rectangle(new, (int(row[XMINROWIDX]), int(row[YMINROWIDX])), (int(row[XMAXROWIDX]), int(row[YMAXROWIDX])), colour, thickness=THICKNESS)"
   ]
  },
  {
   "cell_type": "code",
   "execution_count": 5,
   "metadata": {},
   "outputs": [
    {
     "data": {
      "text/plain": [
       "True"
      ]
     },
     "execution_count": 5,
     "metadata": {},
     "output_type": "execute_result"
    }
   ],
   "source": [
    "pathimagename = IMGNAME + MARKEDFNAMESUFFIX + IMAGEEXT\n",
    "cv2.imwrite(os.path.join(OUTPUTFOLDER, pathimagename), new) # Export detection image"
   ]
  },
  {
   "cell_type": "code",
   "execution_count": null,
   "metadata": {},
   "outputs": [],
   "source": []
  }
 ],
 "metadata": {
  "kernelspec": {
   "display_name": "Python 3",
   "language": "python",
   "name": "python3"
  },
  "language_info": {
   "codemirror_mode": {
    "name": "ipython",
    "version": 3
   },
   "file_extension": ".py",
   "mimetype": "text/x-python",
   "name": "python",
   "nbconvert_exporter": "python",
   "pygments_lexer": "ipython3",
   "version": "3.6.7"
  }
 },
 "nbformat": 4,
 "nbformat_minor": 2
}
